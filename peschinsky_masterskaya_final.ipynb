{
 "cells": [
  {
   "cell_type": "markdown",
   "id": "ecbfaef2",
   "metadata": {},
   "source": [
    "# Описание проекта"
   ]
  },
  {
   "cell_type": "markdown",
   "id": "f5da5462",
   "metadata": {},
   "source": [
    "Просмотр фильмов на оригинальном языке - это популярный и действенный метод прокачаться при изучении иностранных языков. Важно выбрать фильм, который подходит студенту по уровню сложности, т.е. студент понимал 50-70 % диалогов. Чтобы выполнить это условие, преподаватель должен посмотреть фильм и решить, какому уровню он соответствует. Однако это требует больших временных затрат."
   ]
  },
  {
   "cell_type": "markdown",
   "id": "fa2b0720",
   "metadata": {},
   "source": [
    "Наша задача заключается в разработке ML решения для автоматического определения уровня сложности англоязычных фильмов."
   ]
  },
  {
   "cell_type": "markdown",
   "id": "cf8b4601",
   "metadata": {},
   "source": [
    "## 1. Общая информация"
   ]
  },
  {
   "cell_type": "markdown",
   "id": "c62790e6",
   "metadata": {},
   "source": [
    "Здесь будут все необходимые импорты"
   ]
  },
  {
   "cell_type": "code",
   "execution_count": 1,
   "id": "adae7fd9",
   "metadata": {},
   "outputs": [],
   "source": [
    "import os\n",
    "import re\n",
    "import nltk\n",
    "import pysrt\n",
    "\n",
    "import numpy as np\n",
    "import pandas as pd\n",
    "\n",
    "from nltk.corpus import stopwords\n",
    "from nltk.stem import WordNetLemmatizer\n",
    "\n",
    "from sklearn.feature_extraction.text import CountVectorizer\n",
    "from sklearn.feature_extraction.text import TfidfTransformer\n",
    "\n",
    "from sklearn.model_selection import train_test_split\n",
    "from sklearn.tree import DecisionTreeClassifier\n",
    "from sklearn.ensemble import RandomForestClassifier\n",
    "from sklearn.metrics import accuracy_score\n",
    "from sklearn.metrics import confusion_matrix\n",
    "from sklearn.metrics import ConfusionMatrixDisplay\n",
    "\n",
    "from imblearn.under_sampling import NearMiss\n",
    "from imblearn.over_sampling import RandomOverSampler"
   ]
  },
  {
   "cell_type": "markdown",
   "id": "e938d294",
   "metadata": {},
   "source": [
    "## 2. Предобработка данных"
   ]
  },
  {
   "cell_type": "markdown",
   "id": "d46c62ac",
   "metadata": {},
   "source": [
    "Откроем файл excel, который содержит названия фильмов и оценку их уровня сложности."
   ]
  },
  {
   "cell_type": "code",
   "execution_count": 2,
   "id": "49d8d291",
   "metadata": {},
   "outputs": [
    {
     "data": {
      "text/html": [
       "<div>\n",
       "<style scoped>\n",
       "    .dataframe tbody tr th:only-of-type {\n",
       "        vertical-align: middle;\n",
       "    }\n",
       "\n",
       "    .dataframe tbody tr th {\n",
       "        vertical-align: top;\n",
       "    }\n",
       "\n",
       "    .dataframe thead th {\n",
       "        text-align: right;\n",
       "    }\n",
       "</style>\n",
       "<table border=\"1\" class=\"dataframe\">\n",
       "  <thead>\n",
       "    <tr style=\"text-align: right;\">\n",
       "      <th></th>\n",
       "      <th>Movie</th>\n",
       "      <th>Level</th>\n",
       "    </tr>\n",
       "  </thead>\n",
       "  <tbody>\n",
       "    <tr>\n",
       "      <th>0</th>\n",
       "      <td>10_Cloverfield_lane(2016)</td>\n",
       "      <td>B1</td>\n",
       "    </tr>\n",
       "    <tr>\n",
       "      <th>1</th>\n",
       "      <td>10_things_I_hate_about_you(1999)</td>\n",
       "      <td>B1</td>\n",
       "    </tr>\n",
       "    <tr>\n",
       "      <th>2</th>\n",
       "      <td>A_knights_tale(2001)</td>\n",
       "      <td>B2</td>\n",
       "    </tr>\n",
       "    <tr>\n",
       "      <th>3</th>\n",
       "      <td>A_star_is_born(2018)</td>\n",
       "      <td>B2</td>\n",
       "    </tr>\n",
       "    <tr>\n",
       "      <th>4</th>\n",
       "      <td>Aladdin(1992)</td>\n",
       "      <td>A2/A2+</td>\n",
       "    </tr>\n",
       "    <tr>\n",
       "      <th>...</th>\n",
       "      <td>...</td>\n",
       "      <td>...</td>\n",
       "    </tr>\n",
       "    <tr>\n",
       "      <th>236</th>\n",
       "      <td>Matilda(2022)</td>\n",
       "      <td>C1</td>\n",
       "    </tr>\n",
       "    <tr>\n",
       "      <th>237</th>\n",
       "      <td>Bullet train</td>\n",
       "      <td>B1</td>\n",
       "    </tr>\n",
       "    <tr>\n",
       "      <th>238</th>\n",
       "      <td>Thor: love and thunder</td>\n",
       "      <td>B2</td>\n",
       "    </tr>\n",
       "    <tr>\n",
       "      <th>239</th>\n",
       "      <td>Lightyear</td>\n",
       "      <td>B2</td>\n",
       "    </tr>\n",
       "    <tr>\n",
       "      <th>240</th>\n",
       "      <td>The Grinch</td>\n",
       "      <td>B1</td>\n",
       "    </tr>\n",
       "  </tbody>\n",
       "</table>\n",
       "<p>241 rows × 2 columns</p>\n",
       "</div>"
      ],
      "text/plain": [
       "                                Movie   Level\n",
       "0           10_Cloverfield_lane(2016)      B1\n",
       "1    10_things_I_hate_about_you(1999)      B1\n",
       "2                A_knights_tale(2001)      B2\n",
       "3                A_star_is_born(2018)      B2\n",
       "4                       Aladdin(1992)  A2/A2+\n",
       "..                                ...     ...\n",
       "236                     Matilda(2022)      C1\n",
       "237                      Bullet train      B1\n",
       "238            Thor: love and thunder      B2\n",
       "239                         Lightyear      B2\n",
       "240                        The Grinch      B1\n",
       "\n",
       "[241 rows x 2 columns]"
      ]
     },
     "execution_count": 2,
     "metadata": {},
     "output_type": "execute_result"
    }
   ],
   "source": [
    "labels = pd.read_excel('English_level/English_scores/movies_labels.xlsx').drop('id', axis=1)\n",
    "labels"
   ]
  },
  {
   "cell_type": "markdown",
   "id": "a96bb035",
   "metadata": {},
   "source": [
    "Откроем папку, в которой лежат субтитры, и созданим из них датафрейм из двух колонок - название фильма и текст субтитров."
   ]
  },
  {
   "cell_type": "code",
   "execution_count": 3,
   "id": "88d1b9c2",
   "metadata": {},
   "outputs": [],
   "source": [
    "basepath = f'English_level/English_scores/Subtitles_all/'\n",
    "subtitles, movies = [], []\n",
    "\n",
    "for dirpath, dirnames, filenames in os.walk(basepath):\n",
    "    for filename in filenames:\n",
    "        if filename.endswith('.srt'):\n",
    "            filepath = os.path.join(dirpath, filename)\n",
    "            movies.append(filename[:-4])\n",
    "            \n",
    "            subs = pysrt.open(filepath, encoding='iso-8859-1')\n",
    "            subs = [sub.text for sub in subs]\n",
    "            subtitles.append(' '.join(subs))"
   ]
  },
  {
   "cell_type": "code",
   "execution_count": 4,
   "id": "3f06540d",
   "metadata": {},
   "outputs": [
    {
     "data": {
      "text/html": [
       "<div>\n",
       "<style scoped>\n",
       "    .dataframe tbody tr th:only-of-type {\n",
       "        vertical-align: middle;\n",
       "    }\n",
       "\n",
       "    .dataframe tbody tr th {\n",
       "        vertical-align: top;\n",
       "    }\n",
       "\n",
       "    .dataframe thead th {\n",
       "        text-align: right;\n",
       "    }\n",
       "</style>\n",
       "<table border=\"1\" class=\"dataframe\">\n",
       "  <thead>\n",
       "    <tr style=\"text-align: right;\">\n",
       "      <th></th>\n",
       "      <th>Movie</th>\n",
       "      <th>Subs</th>\n",
       "    </tr>\n",
       "  </thead>\n",
       "  <tbody>\n",
       "    <tr>\n",
       "      <th>0</th>\n",
       "      <td>The Walking Dead-S01E01-Days Gone Bye.English</td>\n",
       "      <td>( bugs chittering ) ( brakes squeak ) - ( engi...</td>\n",
       "    </tr>\n",
       "    <tr>\n",
       "      <th>1</th>\n",
       "      <td>The Walking Dead-S01E02-Guts.English</td>\n",
       "      <td>- ( birds chirping )\\n- ( bugs chittering ) Bo...</td>\n",
       "    </tr>\n",
       "    <tr>\n",
       "      <th>2</th>\n",
       "      <td>The Walking Dead-S01E03-Tell It To The Frogs.E...</td>\n",
       "      <td>( thunder rumbling ) Merle:\\nThat's right. You...</td>\n",
       "    </tr>\n",
       "    <tr>\n",
       "      <th>3</th>\n",
       "      <td>The Walking Dead-S01E04-Vatos.English</td>\n",
       "      <td>( birds chirping ) - What?\\n- Nothing. It's no...</td>\n",
       "    </tr>\n",
       "    <tr>\n",
       "      <th>4</th>\n",
       "      <td>The Walking Dead-S01E05-Wildfire.English</td>\n",
       "      <td>- ( walkie-talkie squawks )\\n- Rick: Morgan, I...</td>\n",
       "    </tr>\n",
       "    <tr>\n",
       "      <th>...</th>\n",
       "      <td>...</td>\n",
       "      <td>...</td>\n",
       "    </tr>\n",
       "    <tr>\n",
       "      <th>273</th>\n",
       "      <td>Warm_bodies(2013)</td>\n",
       "      <td>&lt;i&gt;What am I doing&lt;/i&gt;\\n&lt;i&gt;with my life?&lt;/i&gt; &lt;...</td>\n",
       "    </tr>\n",
       "    <tr>\n",
       "      <th>274</th>\n",
       "      <td>We_are_the_Millers(2013)</td>\n",
       "      <td>&lt;i&gt;Oh, my God...&lt;/i&gt; &lt;i&gt;...it's full-on double...</td>\n",
       "    </tr>\n",
       "    <tr>\n",
       "      <th>275</th>\n",
       "      <td>Westworld_scenes_of_Dr_Robert_Ford</td>\n",
       "      <td>[Music] no one's complained [Music] there's th...</td>\n",
       "    </tr>\n",
       "    <tr>\n",
       "      <th>276</th>\n",
       "      <td>While_You_Were_Sleeping(1995)</td>\n",
       "      <td>LUCY: &lt;i&gt;Okay, there are two things that&lt;/i&gt;\\n...</td>\n",
       "    </tr>\n",
       "    <tr>\n",
       "      <th>277</th>\n",
       "      <td>Zootopia(2016)</td>\n",
       "      <td>Fear. Treachery Bloodlust. Thousands of years ...</td>\n",
       "    </tr>\n",
       "  </tbody>\n",
       "</table>\n",
       "<p>278 rows × 2 columns</p>\n",
       "</div>"
      ],
      "text/plain": [
       "                                                 Movie  \\\n",
       "0        The Walking Dead-S01E01-Days Gone Bye.English   \n",
       "1                 The Walking Dead-S01E02-Guts.English   \n",
       "2    The Walking Dead-S01E03-Tell It To The Frogs.E...   \n",
       "3                The Walking Dead-S01E04-Vatos.English   \n",
       "4             The Walking Dead-S01E05-Wildfire.English   \n",
       "..                                                 ...   \n",
       "273                                  Warm_bodies(2013)   \n",
       "274                           We_are_the_Millers(2013)   \n",
       "275                 Westworld_scenes_of_Dr_Robert_Ford   \n",
       "276                      While_You_Were_Sleeping(1995)   \n",
       "277                                     Zootopia(2016)   \n",
       "\n",
       "                                                  Subs  \n",
       "0    ( bugs chittering ) ( brakes squeak ) - ( engi...  \n",
       "1    - ( birds chirping )\\n- ( bugs chittering ) Bo...  \n",
       "2    ( thunder rumbling ) Merle:\\nThat's right. You...  \n",
       "3    ( birds chirping ) - What?\\n- Nothing. It's no...  \n",
       "4    - ( walkie-talkie squawks )\\n- Rick: Morgan, I...  \n",
       "..                                                 ...  \n",
       "273  <i>What am I doing</i>\\n<i>with my life?</i> <...  \n",
       "274  <i>Oh, my God...</i> <i>...it's full-on double...  \n",
       "275  [Music] no one's complained [Music] there's th...  \n",
       "276  LUCY: <i>Okay, there are two things that</i>\\n...  \n",
       "277  Fear. Treachery Bloodlust. Thousands of years ...  \n",
       "\n",
       "[278 rows x 2 columns]"
      ]
     },
     "execution_count": 4,
     "metadata": {},
     "output_type": "execute_result"
    }
   ],
   "source": [
    "df = pd.DataFrame({'Movie': movies, 'Subs': subtitles})\n",
    "df"
   ]
  },
  {
   "cell_type": "markdown",
   "id": "07ee46e0",
   "metadata": {},
   "source": [
    "Объединим полученную таблицу с экселевской по названиям фильмов."
   ]
  },
  {
   "cell_type": "code",
   "execution_count": 5,
   "id": "5f9d09d0",
   "metadata": {},
   "outputs": [
    {
     "data": {
      "text/html": [
       "<div>\n",
       "<style scoped>\n",
       "    .dataframe tbody tr th:only-of-type {\n",
       "        vertical-align: middle;\n",
       "    }\n",
       "\n",
       "    .dataframe tbody tr th {\n",
       "        vertical-align: top;\n",
       "    }\n",
       "\n",
       "    .dataframe thead th {\n",
       "        text-align: right;\n",
       "    }\n",
       "</style>\n",
       "<table border=\"1\" class=\"dataframe\">\n",
       "  <thead>\n",
       "    <tr style=\"text-align: right;\">\n",
       "      <th></th>\n",
       "      <th>Movie</th>\n",
       "      <th>Subs</th>\n",
       "      <th>Level</th>\n",
       "    </tr>\n",
       "  </thead>\n",
       "  <tbody>\n",
       "    <tr>\n",
       "      <th>0</th>\n",
       "      <td>The Walking Dead-S01E01-Days Gone Bye.English</td>\n",
       "      <td>( bugs chittering ) ( brakes squeak ) - ( engi...</td>\n",
       "      <td>A2</td>\n",
       "    </tr>\n",
       "    <tr>\n",
       "      <th>1</th>\n",
       "      <td>The Walking Dead-S01E02-Guts.English</td>\n",
       "      <td>- ( birds chirping )\\n- ( bugs chittering ) Bo...</td>\n",
       "      <td>A2</td>\n",
       "    </tr>\n",
       "    <tr>\n",
       "      <th>2</th>\n",
       "      <td>The Walking Dead-S01E03-Tell It To The Frogs.E...</td>\n",
       "      <td>( thunder rumbling ) Merle:\\nThat's right. You...</td>\n",
       "      <td>A2</td>\n",
       "    </tr>\n",
       "    <tr>\n",
       "      <th>3</th>\n",
       "      <td>The Walking Dead-S01E04-Vatos.English</td>\n",
       "      <td>( birds chirping ) - What?\\n- Nothing. It's no...</td>\n",
       "      <td>A2</td>\n",
       "    </tr>\n",
       "    <tr>\n",
       "      <th>4</th>\n",
       "      <td>The Walking Dead-S01E05-Wildfire.English</td>\n",
       "      <td>- ( walkie-talkie squawks )\\n- Rick: Morgan, I...</td>\n",
       "      <td>A2</td>\n",
       "    </tr>\n",
       "    <tr>\n",
       "      <th>...</th>\n",
       "      <td>...</td>\n",
       "      <td>...</td>\n",
       "      <td>...</td>\n",
       "    </tr>\n",
       "    <tr>\n",
       "      <th>277</th>\n",
       "      <td>Warm_bodies(2013)</td>\n",
       "      <td>&lt;i&gt;What am I doing&lt;/i&gt;\\n&lt;i&gt;with my life?&lt;/i&gt; &lt;...</td>\n",
       "      <td>B1</td>\n",
       "    </tr>\n",
       "    <tr>\n",
       "      <th>278</th>\n",
       "      <td>We_are_the_Millers(2013)</td>\n",
       "      <td>&lt;i&gt;Oh, my God...&lt;/i&gt; &lt;i&gt;...it's full-on double...</td>\n",
       "      <td>B1</td>\n",
       "    </tr>\n",
       "    <tr>\n",
       "      <th>279</th>\n",
       "      <td>Westworld_scenes_of_Dr_Robert_Ford</td>\n",
       "      <td>[Music] no one's complained [Music] there's th...</td>\n",
       "      <td>NaN</td>\n",
       "    </tr>\n",
       "    <tr>\n",
       "      <th>280</th>\n",
       "      <td>While_You_Were_Sleeping(1995)</td>\n",
       "      <td>LUCY: &lt;i&gt;Okay, there are two things that&lt;/i&gt;\\n...</td>\n",
       "      <td>B1</td>\n",
       "    </tr>\n",
       "    <tr>\n",
       "      <th>281</th>\n",
       "      <td>Zootopia(2016)</td>\n",
       "      <td>Fear. Treachery Bloodlust. Thousands of years ...</td>\n",
       "      <td>B2</td>\n",
       "    </tr>\n",
       "  </tbody>\n",
       "</table>\n",
       "<p>282 rows × 3 columns</p>\n",
       "</div>"
      ],
      "text/plain": [
       "                                                 Movie  \\\n",
       "0        The Walking Dead-S01E01-Days Gone Bye.English   \n",
       "1                 The Walking Dead-S01E02-Guts.English   \n",
       "2    The Walking Dead-S01E03-Tell It To The Frogs.E...   \n",
       "3                The Walking Dead-S01E04-Vatos.English   \n",
       "4             The Walking Dead-S01E05-Wildfire.English   \n",
       "..                                                 ...   \n",
       "277                                  Warm_bodies(2013)   \n",
       "278                           We_are_the_Millers(2013)   \n",
       "279                 Westworld_scenes_of_Dr_Robert_Ford   \n",
       "280                      While_You_Were_Sleeping(1995)   \n",
       "281                                     Zootopia(2016)   \n",
       "\n",
       "                                                  Subs Level  \n",
       "0    ( bugs chittering ) ( brakes squeak ) - ( engi...    A2  \n",
       "1    - ( birds chirping )\\n- ( bugs chittering ) Bo...    A2  \n",
       "2    ( thunder rumbling ) Merle:\\nThat's right. You...    A2  \n",
       "3    ( birds chirping ) - What?\\n- Nothing. It's no...    A2  \n",
       "4    - ( walkie-talkie squawks )\\n- Rick: Morgan, I...    A2  \n",
       "..                                                 ...   ...  \n",
       "277  <i>What am I doing</i>\\n<i>with my life?</i> <...    B1  \n",
       "278  <i>Oh, my God...</i> <i>...it's full-on double...    B1  \n",
       "279  [Music] no one's complained [Music] there's th...   NaN  \n",
       "280  LUCY: <i>Okay, there are two things that</i>\\n...    B1  \n",
       "281  Fear. Treachery Bloodlust. Thousands of years ...    B2  \n",
       "\n",
       "[282 rows x 3 columns]"
      ]
     },
     "execution_count": 5,
     "metadata": {},
     "output_type": "execute_result"
    }
   ],
   "source": [
    "df = df.merge(labels, on='Movie', how='left')\n",
    "df"
   ]
  },
  {
   "cell_type": "markdown",
   "id": "55702133",
   "metadata": {},
   "source": [
    "У нас получился датафрейм из 282 строк, который содержит названия фильмов, тексты субтитров к ним и оценку уровня сложности языка в фильме. Уберем из него дубликаты и пропуски."
   ]
  },
  {
   "cell_type": "code",
   "execution_count": 6,
   "id": "3cccd618",
   "metadata": {},
   "outputs": [
    {
     "data": {
      "text/plain": [
       "2"
      ]
     },
     "execution_count": 6,
     "metadata": {},
     "output_type": "execute_result"
    }
   ],
   "source": [
    "df.duplicated().sum()"
   ]
  },
  {
   "cell_type": "code",
   "execution_count": 7,
   "id": "9e2ec5b6",
   "metadata": {},
   "outputs": [],
   "source": [
    "df = df.drop_duplicates()"
   ]
  },
  {
   "cell_type": "code",
   "execution_count": 8,
   "id": "96c44ecc",
   "metadata": {},
   "outputs": [
    {
     "data": {
      "text/plain": [
       "Movie     0\n",
       "Subs      0\n",
       "Level    49\n",
       "dtype: int64"
      ]
     },
     "execution_count": 8,
     "metadata": {},
     "output_type": "execute_result"
    }
   ],
   "source": [
    "df.isna().sum()"
   ]
  },
  {
   "cell_type": "code",
   "execution_count": 9,
   "id": "951c351c",
   "metadata": {},
   "outputs": [],
   "source": [
    "df = df.dropna()"
   ]
  },
  {
   "cell_type": "markdown",
   "id": "a07f6c34",
   "metadata": {},
   "source": [
    "Приведем оценки, включающие в себя несколько значений, к одному значению."
   ]
  },
  {
   "cell_type": "code",
   "execution_count": 10,
   "id": "906d370f",
   "metadata": {},
   "outputs": [
    {
     "data": {
      "text/plain": [
       "array(['A2', 'B1', 'B2', 'C1', 'A2/A2+', 'B1, B2', 'A2/A2+, B1'],\n",
       "      dtype=object)"
      ]
     },
     "execution_count": 10,
     "metadata": {},
     "output_type": "execute_result"
    }
   ],
   "source": [
    "df['Level'].unique()"
   ]
  },
  {
   "cell_type": "code",
   "execution_count": 11,
   "id": "7a3d947a",
   "metadata": {},
   "outputs": [],
   "source": [
    "df['Level'] = df['Level'].replace('B1, B2', 'B2')\n",
    "df['Level'] = df['Level'].replace('A2/A2+', 'A2')\n",
    "df['Level'] = df['Level'].replace('A2/A2+, B1', 'B1')"
   ]
  },
  {
   "cell_type": "markdown",
   "id": "5635cfc9",
   "metadata": {},
   "source": [
    "Посчитаем количество фильмов по категориям. Есть заметный дисбаланс в пользу фильмов категории B."
   ]
  },
  {
   "cell_type": "code",
   "execution_count": 12,
   "id": "b4bf5966",
   "metadata": {},
   "outputs": [
    {
     "data": {
      "text/plain": [
       "B2    105\n",
       "B1     56\n",
       "C1     39\n",
       "A2     31\n",
       "Name: Level, dtype: int64"
      ]
     },
     "execution_count": 12,
     "metadata": {},
     "output_type": "execute_result"
    }
   ],
   "source": [
    "df['Level'].value_counts()"
   ]
  },
  {
   "cell_type": "markdown",
   "id": "b44c8e11",
   "metadata": {},
   "source": [
    "Перемешаем данные и сбросим индекс."
   ]
  },
  {
   "cell_type": "code",
   "execution_count": 13,
   "id": "8776037b",
   "metadata": {},
   "outputs": [
    {
     "data": {
      "text/html": [
       "<div>\n",
       "<style scoped>\n",
       "    .dataframe tbody tr th:only-of-type {\n",
       "        vertical-align: middle;\n",
       "    }\n",
       "\n",
       "    .dataframe tbody tr th {\n",
       "        vertical-align: top;\n",
       "    }\n",
       "\n",
       "    .dataframe thead th {\n",
       "        text-align: right;\n",
       "    }\n",
       "</style>\n",
       "<table border=\"1\" class=\"dataframe\">\n",
       "  <thead>\n",
       "    <tr style=\"text-align: right;\">\n",
       "      <th></th>\n",
       "      <th>Movie</th>\n",
       "      <th>Subs</th>\n",
       "      <th>Level</th>\n",
       "    </tr>\n",
       "  </thead>\n",
       "  <tbody>\n",
       "    <tr>\n",
       "      <th>267</th>\n",
       "      <td>The_terminal(2004)</td>\n",
       "      <td>&lt;font color=\"#D900D9\"&gt;(AIRPLANE APPROACHES)&lt;/f...</td>\n",
       "      <td>B1</td>\n",
       "    </tr>\n",
       "    <tr>\n",
       "      <th>186</th>\n",
       "      <td>Catch_me_if_you_can(2002)</td>\n",
       "      <td>Thank you very much\\nand welcome to To Tell th...</td>\n",
       "      <td>B2</td>\n",
       "    </tr>\n",
       "    <tr>\n",
       "      <th>217</th>\n",
       "      <td>Lion(2016)</td>\n",
       "      <td>Saroo. Saroo! Come on, come on! Get up! Come o...</td>\n",
       "      <td>B2</td>\n",
       "    </tr>\n",
       "    <tr>\n",
       "      <th>233</th>\n",
       "      <td>Pirates_of_the_Caribbean(2003)</td>\n",
       "      <td>&lt;i&gt;Drink up, me hearties, yo ho&lt;/i&gt; &lt;i&gt;We kidn...</td>\n",
       "      <td>B1</td>\n",
       "    </tr>\n",
       "    <tr>\n",
       "      <th>176</th>\n",
       "      <td>Before_sunrise(1995)</td>\n",
       "      <td>&lt;b&gt;Resync By&lt;br/&gt;Lututkanan@subscene&lt;/b&gt; Do yo...</td>\n",
       "      <td>B2</td>\n",
       "    </tr>\n",
       "    <tr>\n",
       "      <th>...</th>\n",
       "      <td>...</td>\n",
       "      <td>...</td>\n",
       "      <td>...</td>\n",
       "    </tr>\n",
       "    <tr>\n",
       "      <th>94</th>\n",
       "      <td>Suits.S01E08.1080p.BluRay.AAC5.1.x265-DTG.02.EN</td>\n",
       "      <td>Lucille. Hey! Hey, it's looking good. Tell me ...</td>\n",
       "      <td>B2</td>\n",
       "    </tr>\n",
       "    <tr>\n",
       "      <th>240</th>\n",
       "      <td>Ready_or_not(2019)</td>\n",
       "      <td>Alex, this way! Come on! Hurry. Get in and don...</td>\n",
       "      <td>A2</td>\n",
       "    </tr>\n",
       "    <tr>\n",
       "      <th>157</th>\n",
       "      <td>Suits.S03E05.480p.HDTV.x264-mSD</td>\n",
       "      <td>I'm looking at a bribe,\\nplain as day. That's ...</td>\n",
       "      <td>C1</td>\n",
       "    </tr>\n",
       "    <tr>\n",
       "      <th>74</th>\n",
       "      <td>Suits.Episode 12- Live to Fight</td>\n",
       "      <td>. - Mike Ross is a fraud,\\nand I'm gonna make ...</td>\n",
       "      <td>B2</td>\n",
       "    </tr>\n",
       "    <tr>\n",
       "      <th>218</th>\n",
       "      <td>Logan(2017)</td>\n",
       "      <td>MAN 1: We get the wheels,&lt;br/&gt;we get la feria,...</td>\n",
       "      <td>B1</td>\n",
       "    </tr>\n",
       "  </tbody>\n",
       "</table>\n",
       "<p>231 rows × 3 columns</p>\n",
       "</div>"
      ],
      "text/plain": [
       "                                               Movie  \\\n",
       "267                               The_terminal(2004)   \n",
       "186                        Catch_me_if_you_can(2002)   \n",
       "217                                       Lion(2016)   \n",
       "233                   Pirates_of_the_Caribbean(2003)   \n",
       "176                             Before_sunrise(1995)   \n",
       "..                                               ...   \n",
       "94   Suits.S01E08.1080p.BluRay.AAC5.1.x265-DTG.02.EN   \n",
       "240                               Ready_or_not(2019)   \n",
       "157                  Suits.S03E05.480p.HDTV.x264-mSD   \n",
       "74                   Suits.Episode 12- Live to Fight   \n",
       "218                                      Logan(2017)   \n",
       "\n",
       "                                                  Subs Level  \n",
       "267  <font color=\"#D900D9\">(AIRPLANE APPROACHES)</f...    B1  \n",
       "186  Thank you very much\\nand welcome to To Tell th...    B2  \n",
       "217  Saroo. Saroo! Come on, come on! Get up! Come o...    B2  \n",
       "233  <i>Drink up, me hearties, yo ho</i> <i>We kidn...    B1  \n",
       "176  <b>Resync By<br/>Lututkanan@subscene</b> Do yo...    B2  \n",
       "..                                                 ...   ...  \n",
       "94   Lucille. Hey! Hey, it's looking good. Tell me ...    B2  \n",
       "240  Alex, this way! Come on! Hurry. Get in and don...    A2  \n",
       "157  I'm looking at a bribe,\\nplain as day. That's ...    C1  \n",
       "74   . - Mike Ross is a fraud,\\nand I'm gonna make ...    B2  \n",
       "218  MAN 1: We get the wheels,<br/>we get la feria,...    B1  \n",
       "\n",
       "[231 rows x 3 columns]"
      ]
     },
     "execution_count": 13,
     "metadata": {},
     "output_type": "execute_result"
    }
   ],
   "source": [
    "np.random.seed(0)\n",
    "df.reindex(np.random.permutation(df.index))"
   ]
  },
  {
   "cell_type": "code",
   "execution_count": 14,
   "id": "fb88fce9",
   "metadata": {},
   "outputs": [],
   "source": [
    "df.reset_index(drop=True, inplace=True)"
   ]
  },
  {
   "cell_type": "markdown",
   "id": "85ae1701",
   "metadata": {},
   "source": [
    "## 3. Предобработка текстовых данных"
   ]
  },
  {
   "cell_type": "markdown",
   "id": "098cd379",
   "metadata": {},
   "source": [
    "### 3.1 Работа с текстом"
   ]
  },
  {
   "cell_type": "markdown",
   "id": "82980815",
   "metadata": {},
   "source": [
    "Разделим данные на признаки X и целевой признак y."
   ]
  },
  {
   "cell_type": "code",
   "execution_count": 15,
   "id": "7974ca72",
   "metadata": {},
   "outputs": [],
   "source": [
    "X, y = df['Subs'], df['Level']"
   ]
  },
  {
   "cell_type": "markdown",
   "id": "9d242b30",
   "metadata": {},
   "source": [
    "Текст может содержать цифры, специальные символы и ненужные пробелы, которые будут мешать при обучении модели. Их можно удалить."
   ]
  },
  {
   "cell_type": "code",
   "execution_count": 16,
   "id": "89b1878b",
   "metadata": {},
   "outputs": [],
   "source": [
    "stemmer = WordNetLemmatizer()"
   ]
  },
  {
   "cell_type": "code",
   "execution_count": 17,
   "id": "2d4772e2",
   "metadata": {},
   "outputs": [],
   "source": [
    "def preprocessing(text):\n",
    "    # удаление специальных символов\n",
    "    document = re.sub(r'\\W', ' ', str(text))\n",
    "    # удаление всех одиноко стоящих символов\n",
    "    document = re.sub(r'\\s+[a-zA-Z]\\s+', ' ', document)\n",
    "    # удаление всех единичных символов вначале текста\n",
    "    document = re.sub(r'\\^[a-zA-Z]\\s+', ' ', document)\n",
    "    # замена множественных пробелов одним\n",
    "    document = re.sub(r'\\s+', ' ', document, flags=re.I)\n",
    "    # удаление приставки b\n",
    "    document = re.sub(r'^b\\s+', '', document)\n",
    "    # приведение текста к нижнему регистру\n",
    "    document = document.lower()\n",
    "    # лемматизация\n",
    "    document = document.split()\n",
    "    document = [stemmer.lemmatize(word) for word in document]\n",
    "    document = ' '.join(document)\n",
    "    return document"
   ]
  },
  {
   "cell_type": "code",
   "execution_count": 18,
   "id": "5b1c65b4",
   "metadata": {},
   "outputs": [],
   "source": [
    "X = X.apply(preprocessing)"
   ]
  },
  {
   "cell_type": "markdown",
   "id": "38eb4e31",
   "metadata": {},
   "source": [
    "### 3.2 Преобразование текста в числа"
   ]
  },
  {
   "cell_type": "markdown",
   "id": "1102e558",
   "metadata": {},
   "source": [
    "Для того, чтобы применить методы машинного обучения, нам необходимо преобразовать текст в числа. Для этого воспользуемся методом мешка слов."
   ]
  },
  {
   "cell_type": "markdown",
   "id": "f1f5927b",
   "metadata": {},
   "source": [
    "Передадим классу CountVectorizer следующие параметры:\n",
    "- max_features = 500 - означает, что мы будем использовать только 500 наиболее часто встречающихся слов\n",
    "- min_df = 10 - мы будем использовать только те слова, которые встречаются в минимум 10 документах\n",
    "- max_df = 0.7 - аналогично, максимальное значение частоты - 70%\n",
    "\n",
    "Также используем параметр stopwords, который удалит слова, не содержащие полезной информации."
   ]
  },
  {
   "cell_type": "code",
   "execution_count": 19,
   "id": "e53614f9",
   "metadata": {},
   "outputs": [],
   "source": [
    "vectorizer = CountVectorizer(max_features=500, min_df=10, max_df=0.7, stop_words=stopwords.words('english'))\n",
    "X = vectorizer.fit_transform(X).toarray()"
   ]
  },
  {
   "cell_type": "markdown",
   "id": "301cd92b",
   "metadata": {},
   "source": [
    "Для того, чтобы учесть также частоту встречаемости слова в тексте, воспользуемся методом TF-IDF."
   ]
  },
  {
   "cell_type": "code",
   "execution_count": 20,
   "id": "809eadf4",
   "metadata": {},
   "outputs": [],
   "source": [
    "tfidfconverter = TfidfTransformer()\n",
    "X = tfidfconverter.fit_transform(X).toarray()"
   ]
  },
  {
   "cell_type": "code",
   "execution_count": 21,
   "id": "97408fd9",
   "metadata": {},
   "outputs": [
    {
     "data": {
      "text/plain": [
       "array([[0.        , 0.        , 0.03600033, ..., 0.        , 0.        ,\n",
       "        0.        ],\n",
       "       [0.        , 0.        , 0.        , ..., 0.        , 0.        ,\n",
       "        0.        ],\n",
       "       [0.        , 0.        , 0.        , ..., 0.        , 0.        ,\n",
       "        0.        ],\n",
       "       ...,\n",
       "       [0.        , 0.04534674, 0.02480932, ..., 0.        , 0.        ,\n",
       "        0.01474087],\n",
       "       [0.01016536, 0.        , 0.01327579, ..., 0.00543367, 0.        ,\n",
       "        0.00438224],\n",
       "       [0.        , 0.02792823, 0.07334211, ..., 0.04502747, 0.        ,\n",
       "        0.02420969]])"
      ]
     },
     "execution_count": 21,
     "metadata": {},
     "output_type": "execute_result"
    }
   ],
   "source": [
    "X"
   ]
  },
  {
   "cell_type": "markdown",
   "id": "ac9a0107",
   "metadata": {},
   "source": [
    "## 4. Обучение модели"
   ]
  },
  {
   "cell_type": "markdown",
   "id": "3927fe86",
   "metadata": {},
   "source": [
    "Разделим данные на обучающую и тестовую выборки в пропорции 75/25."
   ]
  },
  {
   "cell_type": "code",
   "execution_count": 22,
   "id": "44c823d8",
   "metadata": {},
   "outputs": [],
   "source": [
    "X_train, X_test, y_train, y_test = train_test_split(X, y, test_size=0.25, random_state=12345)"
   ]
  },
  {
   "cell_type": "markdown",
   "id": "e0829022",
   "metadata": {},
   "source": [
    "Рассмотрим две модели классификации - дерева решений и случайного леса. Для оценки качества модели возьмем метрику accuracy."
   ]
  },
  {
   "cell_type": "code",
   "execution_count": 23,
   "id": "c8112fe7",
   "metadata": {},
   "outputs": [],
   "source": [
    "DTC_model = None\n",
    "DTC_result = 0\n",
    "\n",
    "for depth in range(1, 10):\n",
    "    for leaf in range(1, 10):\n",
    "        model = DecisionTreeClassifier(random_state=12345, min_samples_leaf=leaf, max_depth=depth)\n",
    "        model.fit(X_train, y_train)\n",
    "        predictions = model.predict(X_test)\n",
    "        result = accuracy_score(y_test, predictions)\n",
    "    \n",
    "        if result > DTC_result:\n",
    "            DTC_model = model\n",
    "            DTC_result = result"
   ]
  },
  {
   "cell_type": "code",
   "execution_count": 24,
   "id": "68e3a8dd",
   "metadata": {},
   "outputs": [
    {
     "data": {
      "text/plain": [
       "0.6724137931034483"
      ]
     },
     "execution_count": 24,
     "metadata": {},
     "output_type": "execute_result"
    }
   ],
   "source": [
    "DTC_result"
   ]
  },
  {
   "cell_type": "code",
   "execution_count": 25,
   "id": "270ea776",
   "metadata": {},
   "outputs": [
    {
     "data": {
      "text/html": [
       "<style>#sk-container-id-1 {color: black;background-color: white;}#sk-container-id-1 pre{padding: 0;}#sk-container-id-1 div.sk-toggleable {background-color: white;}#sk-container-id-1 label.sk-toggleable__label {cursor: pointer;display: block;width: 100%;margin-bottom: 0;padding: 0.3em;box-sizing: border-box;text-align: center;}#sk-container-id-1 label.sk-toggleable__label-arrow:before {content: \"▸\";float: left;margin-right: 0.25em;color: #696969;}#sk-container-id-1 label.sk-toggleable__label-arrow:hover:before {color: black;}#sk-container-id-1 div.sk-estimator:hover label.sk-toggleable__label-arrow:before {color: black;}#sk-container-id-1 div.sk-toggleable__content {max-height: 0;max-width: 0;overflow: hidden;text-align: left;background-color: #f0f8ff;}#sk-container-id-1 div.sk-toggleable__content pre {margin: 0.2em;color: black;border-radius: 0.25em;background-color: #f0f8ff;}#sk-container-id-1 input.sk-toggleable__control:checked~div.sk-toggleable__content {max-height: 200px;max-width: 100%;overflow: auto;}#sk-container-id-1 input.sk-toggleable__control:checked~label.sk-toggleable__label-arrow:before {content: \"▾\";}#sk-container-id-1 div.sk-estimator input.sk-toggleable__control:checked~label.sk-toggleable__label {background-color: #d4ebff;}#sk-container-id-1 div.sk-label input.sk-toggleable__control:checked~label.sk-toggleable__label {background-color: #d4ebff;}#sk-container-id-1 input.sk-hidden--visually {border: 0;clip: rect(1px 1px 1px 1px);clip: rect(1px, 1px, 1px, 1px);height: 1px;margin: -1px;overflow: hidden;padding: 0;position: absolute;width: 1px;}#sk-container-id-1 div.sk-estimator {font-family: monospace;background-color: #f0f8ff;border: 1px dotted black;border-radius: 0.25em;box-sizing: border-box;margin-bottom: 0.5em;}#sk-container-id-1 div.sk-estimator:hover {background-color: #d4ebff;}#sk-container-id-1 div.sk-parallel-item::after {content: \"\";width: 100%;border-bottom: 1px solid gray;flex-grow: 1;}#sk-container-id-1 div.sk-label:hover label.sk-toggleable__label {background-color: #d4ebff;}#sk-container-id-1 div.sk-serial::before {content: \"\";position: absolute;border-left: 1px solid gray;box-sizing: border-box;top: 0;bottom: 0;left: 50%;z-index: 0;}#sk-container-id-1 div.sk-serial {display: flex;flex-direction: column;align-items: center;background-color: white;padding-right: 0.2em;padding-left: 0.2em;position: relative;}#sk-container-id-1 div.sk-item {position: relative;z-index: 1;}#sk-container-id-1 div.sk-parallel {display: flex;align-items: stretch;justify-content: center;background-color: white;position: relative;}#sk-container-id-1 div.sk-item::before, #sk-container-id-1 div.sk-parallel-item::before {content: \"\";position: absolute;border-left: 1px solid gray;box-sizing: border-box;top: 0;bottom: 0;left: 50%;z-index: -1;}#sk-container-id-1 div.sk-parallel-item {display: flex;flex-direction: column;z-index: 1;position: relative;background-color: white;}#sk-container-id-1 div.sk-parallel-item:first-child::after {align-self: flex-end;width: 50%;}#sk-container-id-1 div.sk-parallel-item:last-child::after {align-self: flex-start;width: 50%;}#sk-container-id-1 div.sk-parallel-item:only-child::after {width: 0;}#sk-container-id-1 div.sk-dashed-wrapped {border: 1px dashed gray;margin: 0 0.4em 0.5em 0.4em;box-sizing: border-box;padding-bottom: 0.4em;background-color: white;}#sk-container-id-1 div.sk-label label {font-family: monospace;font-weight: bold;display: inline-block;line-height: 1.2em;}#sk-container-id-1 div.sk-label-container {text-align: center;}#sk-container-id-1 div.sk-container {/* jupyter's `normalize.less` sets `[hidden] { display: none; }` but bootstrap.min.css set `[hidden] { display: none !important; }` so we also need the `!important` here to be able to override the default hidden behavior on the sphinx rendered scikit-learn.org. See: https://github.com/scikit-learn/scikit-learn/issues/21755 */display: inline-block !important;position: relative;}#sk-container-id-1 div.sk-text-repr-fallback {display: none;}</style><div id=\"sk-container-id-1\" class=\"sk-top-container\"><div class=\"sk-text-repr-fallback\"><pre>DecisionTreeClassifier(max_depth=3, min_samples_leaf=8, random_state=12345)</pre><b>In a Jupyter environment, please rerun this cell to show the HTML representation or trust the notebook. <br />On GitHub, the HTML representation is unable to render, please try loading this page with nbviewer.org.</b></div><div class=\"sk-container\" hidden><div class=\"sk-item\"><div class=\"sk-estimator sk-toggleable\"><input class=\"sk-toggleable__control sk-hidden--visually\" id=\"sk-estimator-id-1\" type=\"checkbox\" checked><label for=\"sk-estimator-id-1\" class=\"sk-toggleable__label sk-toggleable__label-arrow\">DecisionTreeClassifier</label><div class=\"sk-toggleable__content\"><pre>DecisionTreeClassifier(max_depth=3, min_samples_leaf=8, random_state=12345)</pre></div></div></div></div></div>"
      ],
      "text/plain": [
       "DecisionTreeClassifier(max_depth=3, min_samples_leaf=8, random_state=12345)"
      ]
     },
     "execution_count": 25,
     "metadata": {},
     "output_type": "execute_result"
    }
   ],
   "source": [
    "DTC_model"
   ]
  },
  {
   "cell_type": "code",
   "execution_count": 26,
   "id": "6abadf4d",
   "metadata": {},
   "outputs": [],
   "source": [
    "RFC_model = None\n",
    "RFC_result = 0\n",
    "\n",
    "for est in range(1, 10):\n",
    "    for depth in range(1, 10):\n",
    "        model = RandomForestClassifier(random_state=12345, max_depth=depth, n_estimators=est)\n",
    "        model.fit(X_train, y_train)\n",
    "        predictions = model.predict(X_test)\n",
    "        result = accuracy_score(y_test, predictions)\n",
    "\n",
    "        if result > RFC_result:\n",
    "            RFC_model = model\n",
    "            RFC_result = result"
   ]
  },
  {
   "cell_type": "code",
   "execution_count": 27,
   "id": "b1d7ce0b",
   "metadata": {},
   "outputs": [
    {
     "data": {
      "text/plain": [
       "0.7241379310344828"
      ]
     },
     "execution_count": 27,
     "metadata": {},
     "output_type": "execute_result"
    }
   ],
   "source": [
    "RFC_result"
   ]
  },
  {
   "cell_type": "code",
   "execution_count": 28,
   "id": "06f07a33",
   "metadata": {},
   "outputs": [
    {
     "data": {
      "text/html": [
       "<style>#sk-container-id-2 {color: black;background-color: white;}#sk-container-id-2 pre{padding: 0;}#sk-container-id-2 div.sk-toggleable {background-color: white;}#sk-container-id-2 label.sk-toggleable__label {cursor: pointer;display: block;width: 100%;margin-bottom: 0;padding: 0.3em;box-sizing: border-box;text-align: center;}#sk-container-id-2 label.sk-toggleable__label-arrow:before {content: \"▸\";float: left;margin-right: 0.25em;color: #696969;}#sk-container-id-2 label.sk-toggleable__label-arrow:hover:before {color: black;}#sk-container-id-2 div.sk-estimator:hover label.sk-toggleable__label-arrow:before {color: black;}#sk-container-id-2 div.sk-toggleable__content {max-height: 0;max-width: 0;overflow: hidden;text-align: left;background-color: #f0f8ff;}#sk-container-id-2 div.sk-toggleable__content pre {margin: 0.2em;color: black;border-radius: 0.25em;background-color: #f0f8ff;}#sk-container-id-2 input.sk-toggleable__control:checked~div.sk-toggleable__content {max-height: 200px;max-width: 100%;overflow: auto;}#sk-container-id-2 input.sk-toggleable__control:checked~label.sk-toggleable__label-arrow:before {content: \"▾\";}#sk-container-id-2 div.sk-estimator input.sk-toggleable__control:checked~label.sk-toggleable__label {background-color: #d4ebff;}#sk-container-id-2 div.sk-label input.sk-toggleable__control:checked~label.sk-toggleable__label {background-color: #d4ebff;}#sk-container-id-2 input.sk-hidden--visually {border: 0;clip: rect(1px 1px 1px 1px);clip: rect(1px, 1px, 1px, 1px);height: 1px;margin: -1px;overflow: hidden;padding: 0;position: absolute;width: 1px;}#sk-container-id-2 div.sk-estimator {font-family: monospace;background-color: #f0f8ff;border: 1px dotted black;border-radius: 0.25em;box-sizing: border-box;margin-bottom: 0.5em;}#sk-container-id-2 div.sk-estimator:hover {background-color: #d4ebff;}#sk-container-id-2 div.sk-parallel-item::after {content: \"\";width: 100%;border-bottom: 1px solid gray;flex-grow: 1;}#sk-container-id-2 div.sk-label:hover label.sk-toggleable__label {background-color: #d4ebff;}#sk-container-id-2 div.sk-serial::before {content: \"\";position: absolute;border-left: 1px solid gray;box-sizing: border-box;top: 0;bottom: 0;left: 50%;z-index: 0;}#sk-container-id-2 div.sk-serial {display: flex;flex-direction: column;align-items: center;background-color: white;padding-right: 0.2em;padding-left: 0.2em;position: relative;}#sk-container-id-2 div.sk-item {position: relative;z-index: 1;}#sk-container-id-2 div.sk-parallel {display: flex;align-items: stretch;justify-content: center;background-color: white;position: relative;}#sk-container-id-2 div.sk-item::before, #sk-container-id-2 div.sk-parallel-item::before {content: \"\";position: absolute;border-left: 1px solid gray;box-sizing: border-box;top: 0;bottom: 0;left: 50%;z-index: -1;}#sk-container-id-2 div.sk-parallel-item {display: flex;flex-direction: column;z-index: 1;position: relative;background-color: white;}#sk-container-id-2 div.sk-parallel-item:first-child::after {align-self: flex-end;width: 50%;}#sk-container-id-2 div.sk-parallel-item:last-child::after {align-self: flex-start;width: 50%;}#sk-container-id-2 div.sk-parallel-item:only-child::after {width: 0;}#sk-container-id-2 div.sk-dashed-wrapped {border: 1px dashed gray;margin: 0 0.4em 0.5em 0.4em;box-sizing: border-box;padding-bottom: 0.4em;background-color: white;}#sk-container-id-2 div.sk-label label {font-family: monospace;font-weight: bold;display: inline-block;line-height: 1.2em;}#sk-container-id-2 div.sk-label-container {text-align: center;}#sk-container-id-2 div.sk-container {/* jupyter's `normalize.less` sets `[hidden] { display: none; }` but bootstrap.min.css set `[hidden] { display: none !important; }` so we also need the `!important` here to be able to override the default hidden behavior on the sphinx rendered scikit-learn.org. See: https://github.com/scikit-learn/scikit-learn/issues/21755 */display: inline-block !important;position: relative;}#sk-container-id-2 div.sk-text-repr-fallback {display: none;}</style><div id=\"sk-container-id-2\" class=\"sk-top-container\"><div class=\"sk-text-repr-fallback\"><pre>RandomForestClassifier(max_depth=5, n_estimators=9, random_state=12345)</pre><b>In a Jupyter environment, please rerun this cell to show the HTML representation or trust the notebook. <br />On GitHub, the HTML representation is unable to render, please try loading this page with nbviewer.org.</b></div><div class=\"sk-container\" hidden><div class=\"sk-item\"><div class=\"sk-estimator sk-toggleable\"><input class=\"sk-toggleable__control sk-hidden--visually\" id=\"sk-estimator-id-2\" type=\"checkbox\" checked><label for=\"sk-estimator-id-2\" class=\"sk-toggleable__label sk-toggleable__label-arrow\">RandomForestClassifier</label><div class=\"sk-toggleable__content\"><pre>RandomForestClassifier(max_depth=5, n_estimators=9, random_state=12345)</pre></div></div></div></div></div>"
      ],
      "text/plain": [
       "RandomForestClassifier(max_depth=5, n_estimators=9, random_state=12345)"
      ]
     },
     "execution_count": 28,
     "metadata": {},
     "output_type": "execute_result"
    }
   ],
   "source": [
    "RFC_model"
   ]
  },
  {
   "cell_type": "markdown",
   "id": "be17b8ad",
   "metadata": {},
   "source": [
    "Модель случайного леса показала лучший результат - 0.724. Но как видно из матрицы ошибок, модель часто ошибается в предсказаниях редких значени (A2 и С1 в нашем случае). Это следствие выявленного ранее дисбаланса в данных."
   ]
  },
  {
   "cell_type": "code",
   "execution_count": 29,
   "id": "4cc6f2ce",
   "metadata": {},
   "outputs": [
    {
     "data": {
      "text/plain": [
       "<sklearn.metrics._plot.confusion_matrix.ConfusionMatrixDisplay at 0x129354760>"
      ]
     },
     "execution_count": 29,
     "metadata": {},
     "output_type": "execute_result"
    },
    {
     "data": {
      "image/png": "[encoded data removed]",
      "text/plain": [
       "<Figure size 640x480 with 2 Axes>"
      ]
     },
     "metadata": {},
     "output_type": "display_data"
    }
   ],
   "source": [
    "matrix = confusion_matrix(y_test, RFC_model.predict(X_test))\n",
    "display = ConfusionMatrixDisplay(confusion_matrix=matrix, display_labels=RFC_model.classes_)\n",
    "display.plot()"
   ]
  },
  {
   "cell_type": "markdown",
   "id": "dbea5aac",
   "metadata": {},
   "source": [
    "Попробуем исправить этот дисбаланс увеличением выборки методом RandomOverSampler."
   ]
  },
  {
   "cell_type": "code",
   "execution_count": 30,
   "id": "56e0c88f",
   "metadata": {},
   "outputs": [],
   "source": [
    "ros = RandomOverSampler()\n",
    "X_ros, y_ros = ros.fit_resample(X, y)"
   ]
  },
  {
   "cell_type": "code",
   "execution_count": 31,
   "id": "fb4bcff7",
   "metadata": {},
   "outputs": [],
   "source": [
    "X_train, X_test, y_train, y_test = train_test_split(X_ros, y_ros, test_size=0.25, random_state=12345)"
   ]
  },
  {
   "cell_type": "code",
   "execution_count": 32,
   "id": "a7cd90ea",
   "metadata": {},
   "outputs": [],
   "source": [
    "RFC_model = None\n",
    "RFC_result = 0\n",
    "\n",
    "for est in range(1, 10):\n",
    "    for depth in range(1, 10):\n",
    "        model = RandomForestClassifier(random_state=12345, max_depth=depth, n_estimators=est)\n",
    "        model.fit(X_train, y_train)\n",
    "        predictions = model.predict(X_test)\n",
    "        result = accuracy_score(y_test, predictions)\n",
    "\n",
    "        if result > RFC_result:\n",
    "            RFC_model = model\n",
    "            RFC_result = result"
   ]
  },
  {
   "cell_type": "code",
   "execution_count": 33,
   "id": "c7e57310",
   "metadata": {},
   "outputs": [
    {
     "data": {
      "text/plain": [
       "0.8476190476190476"
      ]
     },
     "execution_count": 33,
     "metadata": {},
     "output_type": "execute_result"
    }
   ],
   "source": [
    "RFC_result"
   ]
  },
  {
   "cell_type": "markdown",
   "id": "ec70edc3",
   "metadata": {},
   "source": [
    "Нам удалось заметно улучить результат модели и поднять его до значения 0.848."
   ]
  },
  {
   "cell_type": "code",
   "execution_count": 34,
   "id": "3fbf98f9",
   "metadata": {},
   "outputs": [
    {
     "data": {
      "text/plain": [
       "<sklearn.metrics._plot.confusion_matrix.ConfusionMatrixDisplay at 0x111381690>"
      ]
     },
     "execution_count": 34,
     "metadata": {},
     "output_type": "execute_result"
    },
    {
     "data": {
      "image/png": "[encoded data removed]",
      "text/plain": [
       "<Figure size 640x480 with 2 Axes>"
      ]
     },
     "metadata": {},
     "output_type": "display_data"
    }
   ],
   "source": [
    "matrix = confusion_matrix(y_test, RFC_model.predict(X_test))\n",
    "display = ConfusionMatrixDisplay(confusion_matrix=matrix, display_labels=RFC_model.classes_)\n",
    "display.plot()"
   ]
  },
  {
   "cell_type": "markdown",
   "id": "6b662e10",
   "metadata": {},
   "source": [
    "## 5. Вывод"
   ]
  },
  {
   "cell_type": "markdown",
   "id": "a205560c",
   "metadata": {},
   "source": [
    "Перед нами стояла задача разработки ML решения для автоматического определения уровня сложности англоязычных фильмов. Для этого мы воспользовались базой уже размеченных по уровню сложности фильмов. Мы обработали текстовые данные, перевели их в числовой формат. В ходе обучения была выбрана модель случайного леса, которая показала точность 0.72. За счет работы с дисбалансом классов нам удалось повысить этот результат до 0.85."
   ]
  },
  {
   "cell_type": "code",
   "execution_count": null,
   "id": "8e15fce5",
   "metadata": {},
   "outputs": [],
   "source": []
  }
 ],
 "metadata": {
  "kernelspec": {
   "display_name": "Python 3 (ipykernel)",
   "language": "python",
   "name": "python3"
  },
  "language_info": {
   "codemirror_mode": {
    "name": "ipython",
    "version": 3
   },
   "file_extension": ".py",
   "mimetype": "text/x-python",
   "name": "python",
   "nbconvert_exporter": "python",
   "pygments_lexer": "ipython3",
   "version": "3.10.2"
  }
 },
 "nbformat": 4,
 "nbformat_minor": 5
}
